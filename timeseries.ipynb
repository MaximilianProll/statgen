{
 "cells": [
  {
   "cell_type": "code",
   "execution_count": 39,
   "metadata": {},
   "outputs": [],
   "source": [
    "import pandas as pd\n",
    "import numpy as np\n",
    "import matplotlib.pyplot as plt\n",
    "import seaborn as sns\n",
    "from sklearn import  linear_model"
   ]
  },
  {
   "cell_type": "markdown",
   "metadata": {},
   "source": [
    "## Importing the data"
   ]
  },
  {
   "cell_type": "code",
   "execution_count": 40,
   "metadata": {},
   "outputs": [],
   "source": [
    "data = pd.read_csv(\"neonatal_24h.csv\", names=['ID', 'time', 'ABP_S', 'ABP_M', 'ABP_D','HR_ECG', 'SpO2'])\n",
    "\n",
    "IDs = np.unique(data['ID'])\n",
    "\n",
    "data_per_ID = []\n",
    "for ID in IDs:\n",
    "    data_per_ID.append(data.loc[data['ID']==ID].sort_values('time'))"
   ]
  },
  {
   "cell_type": "markdown",
   "metadata": {},
   "source": [
    "### Visualisation of one ID"
   ]
  },
  {
   "cell_type": "code",
   "execution_count": 41,
   "metadata": {},
   "outputs": [],
   "source": [
    "features = ['ABP_S', 'ABP_M', 'ABP_D','HR_ECG', 'SpO2']\n",
    "col = ['red', 'blue', 'green', 'black' , 'orange']\n",
    "\n",
    "fig = plt.figure(figsize=(1.61 * 6, 6))\n",
    "ax = fig.add_subplot(1, 1, 1)\n",
    "ID = 100\n",
    "\n",
    "for y, c in zip(features, col):\n",
    "    data_per_ID[ID].plot(x='time', y=y,  marker='.', kind='scatter', ax=ax, label=y, color=c)\n",
    "plt.title('Visualisation for ID = ' + str(IDs[ID]) )\n",
    "plt.ylabel('');"
   ]
  },
  {
   "cell_type": "markdown",
   "metadata": {},
   "source": [
    "### extract additional features like mean and variance and also slope and intercept of a linear regression"
   ]
  },
  {
   "cell_type": "code",
   "execution_count": 42,
   "metadata": {},
   "outputs": [
    {
     "name": "stderr",
     "output_type": "stream",
     "text": [
      "/usr/local/lib/python2.7/dist-packages/ipykernel_launcher.py:13: RuntimeWarning: Mean of empty slice\n",
      "  del sys.path[0]\n",
      "/usr/local/lib/python2.7/dist-packages/ipykernel_launcher.py:14: RuntimeWarning: Degrees of freedom <= 0 for slice.\n",
      "  \n"
     ]
    }
   ],
   "source": [
    "mean = []\n",
    "var = []\n",
    "slope = []\n",
    "intercept = []\n",
    "\n",
    "for i in range(len(IDs)):\n",
    "    m = []\n",
    "    v = []\n",
    "    s = []\n",
    "    inter = []\n",
    "    for j, feature in enumerate(features):\n",
    "        # extract mean and variance\n",
    "        m.append(np.nanmean(data_per_ID[i], axis=0)[j])\n",
    "        v.append(np.nanvar(data_per_ID[i], axis=0)[j])\n",
    "        \n",
    "        # create linear regression object\n",
    "        regr = linear_model.LinearRegression(fit_intercept=True)\n",
    "        \n",
    "        # select time as x and feature as y \n",
    "        df = data_per_ID[0][['time', feature]].dropna()\n",
    "        x = np.array(df['time']).reshape(-1, 1)\n",
    "        y = df[feature]\n",
    "        \n",
    "        if len(df) > 1:\n",
    "            # train the model using the training sets\n",
    "            regr.fit(x,y)\n",
    "            s.append(regr.coef_[0])\n",
    "            inter.append(regr.intercept_)\n",
    "        else:\n",
    "            s.append(np.nan)\n",
    "            inter.append(np.nan)\n",
    "\n",
    "    mean.append(m)\n",
    "    var.append(v)\n",
    "    slope.append(s)\n",
    "    intercept.append(inter)\n",
    "    \n",
    "mean = np.array(mean)\n",
    "var = np.array(var)\n",
    "slope = np.array(slope)\n",
    "intercept = np.array(intercept)"
   ]
  },
  {
   "cell_type": "markdown",
   "metadata": {},
   "source": [
    "### save arrays for future analysis"
   ]
  },
  {
   "cell_type": "code",
   "execution_count": 45,
   "metadata": {},
   "outputs": [],
   "source": [
    "np.savetxt('mean.csv', mean, delimiter=',')\n",
    "np.savetxt('var.csv', var, delimiter=',')\n",
    "np.savetxt('slope.csv', slope, delimiter=',')\n",
    "np.savetxt('intercept.csv', intercept, delimiter=',')\n",
    "np.savetxt('IDs.csv', IDs, delimiter=',', fmt='%i')"
   ]
  },
  {
   "cell_type": "code",
   "execution_count": 46,
   "metadata": {},
   "outputs": [],
   "source": [
    "timeseries = []\n",
    "for i in range(len(IDs)):\n",
    "    ts = []\n",
    "    ts.append(IDs[i])\n",
    "    for j in range(mean.shape[1]):\n",
    "        ts.append(mean[i][j])\n",
    "        ts.append(var[i][j])\n",
    "        ts.append(slope[i][j])\n",
    "        ts.append(intercept[i][j])\n",
    "    timeseries.append(ts)\n",
    "timeseries = np.array(timeseries)"
   ]
  },
  {
   "cell_type": "code",
   "execution_count": 47,
   "metadata": {},
   "outputs": [],
   "source": [
    "np.savetxt('timeseries.csv', timeseries, delimiter=',')\n",
    "# order of the file:\n",
    "\n",
    "# ID1\t mean ABP_S\t\t var ABP_S\t\t slope ABP_S\t\t intercept ABP_S\n",
    "#\t\tmean ABP_M\t\t var ABP_M\t\t slope ABP_M\t\t intercept ABP_M\n",
    "#\t\tmean ABP_D\t\t var ABP_D\t\t slope ABP_D\t\t intercept ABP_D\n",
    "#\t\tmean HR_ECG\t\t var HR_ECG\t\t slope HR_ECG\t\t intercept HR_ECG\n",
    "#\t\tmean SpO2\t\t var SpO2\t\t slope SpO2\t\t\t intercept SpO2\n",
    "\n",
    "# in total ID + (mean, var, slope, intercept) * ('ABP_S', 'ABP_M', 'ABP_D','HR_ECG', 'SpO2') = 1 + 20 columns \n"
   ]
  },
  {
   "cell_type": "code",
   "execution_count": 48,
   "metadata": {},
   "outputs": [
    {
     "name": "stdout",
     "output_type": "stream",
     "text": [
      "(700, 21)\n"
     ]
    }
   ],
   "source": [
    "print(timeseries.shape)"
   ]
  },
  {
   "cell_type": "code",
   "execution_count": null,
   "metadata": {},
   "outputs": [],
   "source": []
  }
 ],
 "metadata": {
  "kernelspec": {
   "display_name": "Python 3",
   "language": "python",
   "name": "python3"
  },
  "language_info": {
   "codemirror_mode": {
    "name": "ipython",
    "version": 2
   },
   "file_extension": ".py",
   "mimetype": "text/x-python",
   "name": "python",
   "nbconvert_exporter": "python",
   "pygments_lexer": "ipython2",
   "version": "2.7.13"
  }
 },
 "nbformat": 4,
 "nbformat_minor": 2
}
